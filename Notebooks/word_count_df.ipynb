{
 "cells": [
  {
   "cell_type": "code",
   "execution_count": 5,
   "id": "31353506",
   "metadata": {},
   "outputs": [],
   "source": [
    "list1 = ['what', 'the', 'fuck', 'man']\n",
    "list2 = ['is', 'goin', 'on', 'around']\n",
    "list3 = ['here', 'i', 'tell', 'you', 'what', 'man']"
   ]
  },
  {
   "cell_type": "code",
   "execution_count": 6,
   "id": "6cd02220",
   "metadata": {},
   "outputs": [],
   "source": [
    "list1.append('is')"
   ]
  },
  {
   "cell_type": "code",
   "execution_count": 7,
   "id": "d22873af",
   "metadata": {},
   "outputs": [
    {
     "data": {
      "text/plain": [
       "['what', 'the', 'fuck', 'man', 'is']"
      ]
     },
     "execution_count": 7,
     "metadata": {},
     "output_type": "execute_result"
    }
   ],
   "source": [
    "list1"
   ]
  },
  {
   "cell_type": "code",
   "execution_count": null,
   "id": "ad006a69",
   "metadata": {},
   "outputs": [],
   "source": []
  }
 ],
 "metadata": {
  "kernelspec": {
   "display_name": "Python 3 (ipykernel)",
   "language": "python",
   "name": "python3"
  },
  "language_info": {
   "codemirror_mode": {
    "name": "ipython",
    "version": 3
   },
   "file_extension": ".py",
   "mimetype": "text/x-python",
   "name": "python",
   "nbconvert_exporter": "python",
   "pygments_lexer": "ipython3",
   "version": "3.9.7"
  }
 },
 "nbformat": 4,
 "nbformat_minor": 5
}
