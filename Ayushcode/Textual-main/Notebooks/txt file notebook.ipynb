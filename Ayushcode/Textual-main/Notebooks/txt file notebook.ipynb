{
 "cells": [
  {
   "cell_type": "code",
   "execution_count": 1,
   "id": "0061d526",
   "metadata": {},
   "outputs": [],
   "source": [
    "from collections import Counter\n",
    "import numpy as np"
   ]
  },
  {
   "cell_type": "code",
   "execution_count": 32,
   "id": "1a6cac38",
   "metadata": {},
   "outputs": [],
   "source": [
    "def txt_parser(filename):\n",
    "    f = open(filename)\n",
    "    read_f = f.read()\n",
    "    read_f = read_f.replace('\\n', ' ')\n",
    "    words = read_f.split(' ')\n",
    "    wc = Counter(words)\n",
    "    num = len(words)\n",
    "    f.close()\n",
    "    return {'wordcount': wc, 'numwords': num}"
   ]
  },
  {
   "cell_type": "code",
   "execution_count": 33,
   "id": "94ef8eb7",
   "metadata": {},
   "outputs": [
    {
     "data": {
      "text/plain": [
       "{'wordcount': Counter({'Hello': 1,\n",
       "          'this': 2,\n",
       "          'is': 1,\n",
       "          'a': 5,\n",
       "          'test': 1,\n",
       "          'text': 1,\n",
       "          'file.': 1,\n",
       "          'I': 8,\n",
       "          'am': 1,\n",
       "          'unsure': 1,\n",
       "          'of': 8,\n",
       "          'how': 1,\n",
       "          'exactly': 1,\n",
       "          'will': 2,\n",
       "          'be': 6,\n",
       "          'read': 1,\n",
       "          'by': 1,\n",
       "          'python': 1,\n",
       "          'because': 1,\n",
       "          'to': 7,\n",
       "          'honest': 1,\n",
       "          'only': 2,\n",
       "          'work': 1,\n",
       "          'with': 1,\n",
       "          'csv': 1,\n",
       "          'files': 1,\n",
       "          'Now': 1,\n",
       "          'put': 1,\n",
       "          'the': 10,\n",
       "          'lyrics': 1,\n",
       "          'one': 1,\n",
       "          'my': 3,\n",
       "          'favorite': 1,\n",
       "          'songs': 1,\n",
       "          \"don't\": 1,\n",
       "          'mean': 1,\n",
       "          'dwell,': 1,\n",
       "          'but': 1,\n",
       "          \"can't\": 1,\n",
       "          'help': 1,\n",
       "          'myself': 3,\n",
       "          'When': 3,\n",
       "          'feel': 2,\n",
       "          'vibe,': 1,\n",
       "          'and': 5,\n",
       "          'taste': 1,\n",
       "          'memory': 1,\n",
       "          'Of': 1,\n",
       "          'time': 4,\n",
       "          'in': 2,\n",
       "          'life,': 1,\n",
       "          'when': 2,\n",
       "          'years': 1,\n",
       "          'seemed': 2,\n",
       "          'stand': 1,\n",
       "          'still': 1,\n",
       "          'close': 2,\n",
       "          'eyes': 1,\n",
       "          'sink': 2,\n",
       "          'within': 2,\n",
       "          'Relive': 2,\n",
       "          'gift': 2,\n",
       "          'precious': 2,\n",
       "          'memories': 2,\n",
       "          'In': 2,\n",
       "          'need': 2,\n",
       "          'fix': 2,\n",
       "          'called': 2,\n",
       "          'innocence': 4,\n",
       "          'did': 2,\n",
       "          'it': 2,\n",
       "          'begin,': 2,\n",
       "          'change': 2,\n",
       "          'come': 2,\n",
       "          'was': 2,\n",
       "          'undetectable': 2,\n",
       "          'The': 3,\n",
       "          'open': 2,\n",
       "          'wounds': 2,\n",
       "          'expose': 2,\n",
       "          'importance': 2,\n",
       "          'our': 2,\n",
       "          'A': 2,\n",
       "          'high': 2,\n",
       "          'that': 3,\n",
       "          'can': 2,\n",
       "          'never': 2,\n",
       "          'bought': 2,\n",
       "          'or': 2,\n",
       "          'sold': 2,\n",
       "          'Symbolic': 2,\n",
       "          'acts,': 2,\n",
       "          'so': 4,\n",
       "          'vivid': 2,\n",
       "          'Yet': 2,\n",
       "          'at': 2,\n",
       "          'same': 2,\n",
       "          'were': 3,\n",
       "          'invisible': 2,\n",
       "          'Savor': 1,\n",
       "          'what': 2,\n",
       "          'you': 3,\n",
       "          'see': 1,\n",
       "          'Things': 1,\n",
       "          'may': 2,\n",
       "          'not': 1,\n",
       "          'seem': 1,\n",
       "          'important': 1,\n",
       "          'now': 1,\n",
       "          'But': 1,\n",
       "          'tomorrow': 1,\n",
       "          'Do': 1,\n",
       "          'remember': 1,\n",
       "          'things': 1,\n",
       "          'eternal?': 1,\n",
       "          'Heroes': 1,\n",
       "          'real,': 1,\n",
       "          'their': 1,\n",
       "          'magic': 1,\n",
       "          'frozen': 1,\n",
       "          'way': 1,\n",
       "          'learn': 1,\n",
       "          'is:': 1,\n",
       "          'aware': 1,\n",
       "          'hold': 1,\n",
       "          'on': 1,\n",
       "          'tight': 1,\n",
       "          'eye': 1}),\n",
       " 'numwords': 239}"
      ]
     },
     "execution_count": 33,
     "metadata": {},
     "output_type": "execute_result"
    }
   ],
   "source": [
    "txt_parser('test_text.txt')"
   ]
  },
  {
   "cell_type": "code",
   "execution_count": 12,
   "id": "18b27a11",
   "metadata": {},
   "outputs": [],
   "source": [
    "def filter_punct(text):\n",
    "    text = text.lower()\n",
    "    text = text.replace(',', '')\n",
    "    text = text.replace(':', '')\n",
    "    text = text.replace(';', '')\n",
    "    text = text.replace('?', '')\n",
    "    text = text.replace('<', '')\n",
    "    text = text.replace('>', '')\n",
    "    text = text.replace('.', '')\n",
    "    text = text.replace('\\n', ' ')\n",
    "    text = text.replace('-', ' ')\n",
    "    text = text.split(' ')\n",
    "    for i in range(len(text)):\n",
    "        if i == '':\n",
    "            del text[i]\n",
    "    return text"
   ]
  },
  {
   "cell_type": "code",
   "execution_count": 27,
   "id": "f2606d7e",
   "metadata": {},
   "outputs": [],
   "source": [
    "Symbolic = open('test_text.txt')"
   ]
  },
  {
   "cell_type": "code",
   "execution_count": 28,
   "id": "f7e22674",
   "metadata": {},
   "outputs": [
    {
     "data": {
      "text/plain": [
       "\"Hello this is a test text file. I am unsure of how exactly this will be read by python because to be honest I only work with csv files\\nNow I will put the lyrics to one of my favorite songs\\nI don't mean to dwell, but I can't help myself\\nWhen I feel the vibe, and taste a memory\\nOf a time in life, when years seemed to stand still\\nI close my eyes and sink within myself\\nRelive the gift of precious memories\\nIn need of a fix called innocence\\nWhen did it begin, the change to come was undetectable\\nThe open wounds expose the importance of our innocence\\nA high that can never be bought or sold\\nSymbolic acts, so vivid\\nYet at the same time were invisible\\nSavor what you feel and what you see\\nThings that may not seem important now\\nBut may be tomorrow\\nDo you remember when things seemed so eternal?\\nHeroes were so real, their magic frozen in time\\nThe only way to learn is: be aware and hold on tight\\nI close my eye and sink within myself\\nRelive the gift of precious memories\\nIn need of a fix called innocence\\nWhen did it begin, the change to come was undetectable\\nThe open wounds expose the importance of our innocence\\nA high that can never be bought or sold\\nSymbolic acts, so vivid\\nYet at the same time were invisible\""
      ]
     },
     "execution_count": 28,
     "metadata": {},
     "output_type": "execute_result"
    }
   ],
   "source": [
    "Symbolic = Symbolic.read()\n",
    "Symbolic"
   ]
  },
  {
   "cell_type": "code",
   "execution_count": null,
   "id": "6d1a5619",
   "metadata": {},
   "outputs": [],
   "source": []
  }
 ],
 "metadata": {
  "kernelspec": {
   "display_name": "Python 3 (ipykernel)",
   "language": "python",
   "name": "python3"
  },
  "language_info": {
   "codemirror_mode": {
    "name": "ipython",
    "version": 3
   },
   "file_extension": ".py",
   "mimetype": "text/x-python",
   "name": "python",
   "nbconvert_exporter": "python",
   "pygments_lexer": "ipython3",
   "version": "3.9.7"
  }
 },
 "nbformat": 4,
 "nbformat_minor": 5
}
